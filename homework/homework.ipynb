{
 "nbformat": 4,
 "nbformat_minor": 2,
 "metadata": {
  "language_info": {
   "name": "python",
   "codemirror_mode": {
    "name": "ipython",
    "version": 3
   },
   "version": "3.7.4"
  },
  "orig_nbformat": 2,
  "file_extension": ".py",
  "mimetype": "text/x-python",
  "name": "python",
  "npconvert_exporter": "python",
  "pygments_lexer": "ipython3",
  "version": 3
 },
 "cells": [
  {
   "cell_type": "markdown",
   "metadata": {},
   "outputs": [],
   "source": [
    "# 车牌识别大作业\n",
    "\n",
    "李沿橙 1900012766"
   ]
  },
  {
   "cell_type": "code",
   "execution_count": 1,
   "metadata": {},
   "outputs": [],
   "source": [
    "# import collection\n",
    "import cv2\n",
    "import numpy as np\n",
    "import matplotlib.pyplot as plt\n",
    "import xml.etree.ElementTree as ET\n",
    "import matplotlib.patches as patches\n",
    "\n",
    "import visdom\n",
    "import os\n",
    "import torch\n",
    "import torch.nn as nn\n",
    "import torch.optim as optim\n",
    "import torchvision.transforms as transforms\n",
    "from collections import OrderedDict\n",
    "from torch.utils.data import DataLoader\n",
    "from torch.utils.data import TensorDataset\n",
    "torch.manual_seed(2)\n",
    "torch.backends.cudnn.deterministic = True\n",
    "torch.backends.cudnn.benchmark = False"
   ]
  },
  {
   "cell_type": "markdown",
   "metadata": {},
   "outputs": [],
   "source": [
    "## 一、数据准备"
   ]
  },
  {
   "cell_type": "code",
   "execution_count": 2,
   "metadata": {},
   "outputs": [],
   "source": [
    "# 获取一个目录下所有文件的文件名（包含 path），返回一个列表，按字典序返回\n",
    "def get_all_files(path):\n",
    "    return [\"\\\\\".join([path, x]) for x in os.listdir(path)]"
   ]
  },
  {
   "cell_type": "code",
   "execution_count": 3,
   "metadata": {},
   "outputs": [],
   "source": [
    "root_path_train = r'.\\Plate_dataset\\AC\\train\\xml' # 训练集目录\n",
    "root_path_test = r'.\\Plate_dataset\\AC\\test\\xml'"
   ]
  },
  {
   "cell_type": "code",
   "execution_count": 4,
   "metadata": {},
   "outputs": [],
   "source": [
    "# 根据 path 指定的 xml 文件，返回一个二元组，第一个元素是裁剪后的车牌图片，第二个是车牌号码\n",
    "def xml_to_pair(path):\n",
    "    xml_loader = ET.ElementTree(file = path)\n",
    "    second = xml_loader.find('object').find('platetext').text\n",
    "    \n",
    "    filename = xml_loader.find('filename').text\n",
    "    filename = '\\\\'.join(path.split('\\\\')[:-2]) + '\\\\jpeg\\\\' + filename # 图片的完整路径\n",
    "\n",
    "    img = cv2.imread(filename)\n",
    "    bbox = xml_loader.find('object').find('bndbox')\n",
    "    xmin = bbox.find('xmin').text\n",
    "    ymin = bbox.find('ymin').text\n",
    "    xmax  = bbox.find('xmax').text\n",
    "    ymax = bbox.find('ymax').text\n",
    "    bbox = [xmin, ymin, xmax, ymax]\n",
    "    bbox = [int(b) for b in bbox] # left, top, right, bottom\n",
    "    img = img[bbox[1]:bbox[3], bbox[0]:bbox[2]]\n",
    "\n",
    "    first = img\n",
    "    #first = cv2.resize(img, (80, 40))\n",
    "    return (first, second)"
   ]
  },
  {
   "cell_type": "code",
   "execution_count": 5,
   "metadata": {},
   "outputs": [],
   "source": [
    "root_path_char = r'.\\Chars_data'"
   ]
  },
  {
   "cell_type": "code",
   "execution_count": 6,
   "metadata": {},
   "outputs": [],
   "source": [
    "# 返回路径的最后一个字符\n",
    "def path_to_char(path):\n",
    "    return path[-1]"
   ]
  },
  {
   "cell_type": "code",
   "execution_count": 7,
   "metadata": {},
   "outputs": [],
   "source": [
    "# 根据 path 指定的 char 的文件夹，返回一个二元组的列表，第一个元素是图片，第二个元素是字符的 ASCII 码\n",
    "def path_ch_to_pairs(path):\n",
    "    ch = ord(path_to_char(path))\n",
    "    return [(cv2.imread(x, flags = cv2.IMREAD_GRAYSCALE), ch) for x in get_all_files(path)]"
   ]
  },
  {
   "cell_type": "code",
   "execution_count": 8,
   "metadata": {},
   "outputs": [],
   "source": [
    "# 得到处理后的原始数据\n",
    "raw_train = [xml_to_pair(x) for x in get_all_files(root_path_train)] # [(img, str)]\n",
    "raw_test = [xml_to_pair(x) for x in get_all_files(root_path_test)] # [(img, str)]\n",
    "raw_chars = { path_to_char(path_ch): path_ch_to_pairs(path_ch) for path_ch in [x for x in get_all_files(root_path_char)] } # {[(img, ascii)]}"
   ]
  },
  {
   "cell_type": "markdown",
   "metadata": {},
   "outputs": [],
   "source": [
    "## 二、数据预处理"
   ]
  }
 ]
}