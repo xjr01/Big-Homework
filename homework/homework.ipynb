{
 "nbformat": 4,
 "nbformat_minor": 2,
 "metadata": {
  "language_info": {
   "name": "python",
   "codemirror_mode": {
    "name": "ipython",
    "version": 3
   },
   "version": "3.7.4"
  },
  "orig_nbformat": 2,
  "file_extension": ".py",
  "mimetype": "text/x-python",
  "name": "python",
  "npconvert_exporter": "python",
  "pygments_lexer": "ipython3",
  "version": 3
 },
 "cells": [
  {
   "cell_type": "markdown",
   "metadata": {},
   "outputs": [],
   "source": [
    "# 车牌识别大作业\n",
    "\n",
    "李沿橙 1900012766"
   ]
  },
  {
   "cell_type": "code",
   "metadata": {},
   "outputs": [],
   "source": [
    "# import collection\n",
    "import cv2\n",
    "import numpy as np\n",
    "import matplotlib.pyplot as plt\n",
    "import xml.etree.ElementTree as ET\n",
    "import matplotlib.patches as patches\n",
    "\n",
    "import visdom\n",
    "import os\n",
    "import torch\n",
    "import torch.nn as nn\n",
    "import torch.optim as optim\n",
    "import torchvision.transforms as transforms\n",
    "from collections import OrderedDict\n",
    "from torch.utils.data import DataLoader\n",
    "from torch.utils.data import TensorDataset\n",
    "torch.manual_seed(2)\n",
    "torch.backends.cudnn.deterministic = True\n",
    "torch.backends.cudnn.benchmark = False"
   ]
  },
  {
   "cell_type": "markdown",
   "metadata": {},
   "outputs": [],
   "source": [
    "## 一、数据准备"
   ]
  },
  {
   "cell_type": "code",
   "metadata": {},
   "outputs": [],
   "source": [
    "# 获取一个目录下所有文件的文件名（包含 path），返回一个列表，按字典序返回\n",
    "def get_all_files(path):\n",
    "    return [\"\\\\\".join([path, x]) for x in os.listdir(path)]"
   ]
  },
  {
   "cell_type": "code",
   "metadata": {},
   "outputs": [],
   "source": [
    "root_path_train = r'.\\Plate_dataset\\AC\\train\\xml' # 训练集目录\n",
    "root_path_test = r'.\\Plat_dataset\\AC\\test\\xml'"
   ]
  },
  {
   "cell_type": "code",
   "execution_count": 76,
   "metadata": {},
   "outputs": [],
   "source": [
    "# 根据 path 指定的 xml 文件，返回一个二元组，第一个元素是裁剪后的车牌图片，第二个是车牌号码\n",
    "def xml_to_tuple(path):\n",
    "    xml_loader = ET.ElementTree(file = path)\n",
    "    second = xml_loader.find('object').find('platetext').text\n",
    "    \n",
    "    filename = xml_loader.find('filename').text\n",
    "    filename = '\\\\'.join(path.split('\\\\')[:-2]) + '\\\\jpeg\\\\' + filename # 图片的完整路径\n",
    "\n",
    "    img = cv2.imread(filename)\n",
    "    bbox = xml_loader.find('object').find('bndbox')\n",
    "    xmin = bbox.find('xmin').text\n",
    "    ymin = bbox.find('ymin').text\n",
    "    xmax  = bbox.find('xmax').text\n",
    "    ymax = bbox.find('ymax').text\n",
    "    bbox = [xmin, ymin, xmax, ymax]\n",
    "    bbox = [int(b) for b in bbox] # left, top, right, bottom\n",
    "    img = img[bbox[1]:bbox[3], bbox[0]:bbox[2]]\n",
    "\n",
    "    first = img\n",
    "    return (first, second)"
   ]
  }
 ]
}